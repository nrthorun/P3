{
 "cells": [
  {
   "cell_type": "markdown",
   "metadata": {},
   "source": [
    "## Project 3 - OpenStreetMap Data Wrangling\n",
    "##### Author: Nikolas Thorun"
   ]
  },
  {
   "cell_type": "markdown",
   "metadata": {},
   "source": [
    "This project is based on the data wrangling from a map exported from OpenStreetMap and consists of four phases: Download and data investigation, iterative data wrangling, insertion of treated data in the database and database queries.\n",
    "The map chosen was that of the city of Southampton, England, to avoid the obstacles of trying to work with UNICODE, since city maps in Brazil have special characters such as _á, ã, ç_ and etc., which are not supported by the standard Python 2 * encoding * The map file is just over 65 MB unzipped. <br/>\n",
    "The map of Southampton can be accessed at: https://www.openstreetmap.org/node/2478628079#map=14/50.9025/-1.4042 <br/>\n",
    "The database to be used is MongoDB."
   ]
  },
  {
   "cell_type": "code",
   "execution_count": 1,
   "metadata": {},
   "outputs": [],
   "source": [
    "#import necessary libraries\n",
    "import xml.etree.cElementTree as ET\n",
    "import pprint\n",
    "import re\n",
    "import codecs\n",
    "import json\n",
    "\n",
    "#map file location\n",
    "filename = 'D:/Udacity/P3/map/southampton_england.osm'"
   ]
  },
  {
   "cell_type": "markdown",
   "metadata": {},
   "source": [
    "Using part of the code generously given by Shannon Bradshaw, here is the first scan of the map to identify the most common types of roads. Once identified, the types with the highest incidence are manually entered in the *expected* list. All types of roads that are not included in the list are printed below."
   ]
  },
  {
   "cell_type": "code",
   "execution_count": 2,
   "metadata": {
    "scrolled": false
   },
   "outputs": [
    {
     "name": "stdout",
     "output_type": "stream",
     "text": [
      "{'387': {'387'},\n",
      " 'Broadway': {'The Broadway', 'Midanbury Broadway'},\n",
      " 'Cloisters': {'The Cloisters'},\n",
      " 'Cottages': {'Honeysuckle Cottages'},\n",
      " 'Dell': {'Holly Dell'},\n",
      " 'Drove': {'Coxford Drove', 'York Drove'},\n",
      " 'East': {'Millbrook Road East', 'Bitterne Road East', 'Bassett Crescent East'},\n",
      " 'Esplanade': {'Western Esplanade'},\n",
      " 'Estate': {'Belgrave Industrial Estate'},\n",
      " 'Finches': {'The Finches'},\n",
      " 'Firs': {'The Firs'},\n",
      " 'Green': {'Lulworth Green', 'Chiltern Green', 'Edwin Jones Green'},\n",
      " 'Greenways': {'Greenways'},\n",
      " 'High-Rise': {'Ferry High-Rise'},\n",
      " 'Holt': {'Aspen Holt'},\n",
      " 'House': {'Beech House'},\n",
      " 'Loop': {'Spitfire Loop'},\n",
      " 'Mayflowers': {'The Mayflowers'},\n",
      " 'Meadow': {'Bassett Meadow'},\n",
      " 'Mount': {'The Mount'},\n",
      " 'North': {'Manor Road North', 'Osborne Road North'},\n",
      " 'Parade': {'Harbour Parade', 'Marine Parade'},\n",
      " 'Park': {'Antelope Park', 'Portswood Park'},\n",
      " 'Polygon': {'The Polygon'},\n",
      " 'Precinct': {'Shirley Precinct'},\n",
      " 'Quay': {'Shamrock Quay', 'Town Quay'},\n",
      " 'Queensway': {'Queensway'},\n",
      " 'Raod': {'Bluebell Raod'},\n",
      " 'Rd': {'Grange Rd', 'Hythe Rd', 'Bellevue Rd'},\n",
      " 'Redhill': {'Redhill'},\n",
      " 'Rise': {'Overcliff Rise'},\n",
      " 'S': {'S'},\n",
      " 'Saltmead': {'Saltmead'},\n",
      " 'South': {'Osborne Road South', 'Albert Road South'},\n",
      " 'Street)': {'Western Esplanade (corner of Fitzhugh Street)'},\n",
      " 'View': {'Pond View', 'Park View'},\n",
      " 'Village': {'Bassett Green Road / Bassett Green Village', 'Bitterne Village'},\n",
      " 'West': {'Bassett Crescent West', 'Millbrook Road West', 'Bitterne Road West'},\n",
      " 'Westal': {'Bitterne Road Westal'},\n",
      " 'access': {'Emergency department access'},\n",
      " 're': {'Royal Crescent Road student re'},\n",
      " 'road': {'bluebell road', 'Bluebell road'}}\n"
     ]
    }
   ],
   "source": [
    "from collections import defaultdict\n",
    "\n",
    "street_type_re = re.compile(r'\\b\\S+\\.?$', re.IGNORECASE)\n",
    "\n",
    "expected = [\"Avenue\", \"Bridge\", \"Buildings\", \"Centre\", \"Close\", \"Court\", \"Crescent\", \"Drive\", \"Gardens\", \n",
    "            \"Grove\", \"Hill\", \"Lane\", \"Mews\", \"Place\", \"Road\", \"Square\", \"Street\", \"Terrace\", \"Walk\", \"Way\"]\n",
    "\n",
    "def audit_street_type(street_types, street_name):\n",
    "    m = street_type_re.search(street_name)\n",
    "    if m:\n",
    "        street_type = m.group()\n",
    "        if street_type not in expected:\n",
    "            street_types[street_type].add(street_name)\n",
    "\n",
    "\n",
    "def is_street_name(elem):\n",
    "    return (elem.attrib['k'] == \"addr:street\")\n",
    "\n",
    "\n",
    "def audit(osmfile):\n",
    "    osm_file = codecs.open(osmfile, \"r\", encoding=\"utf8\")\n",
    "    street_types = defaultdict(set)\n",
    "    for event, elem in ET.iterparse(osm_file, events=(\"start\",)):\n",
    "\n",
    "        if elem.tag == \"node\" or elem.tag == \"way\":\n",
    "            for tag in elem.iter(\"tag\"):\n",
    "                if is_street_name(tag):\n",
    "                    audit_street_type(street_types, tag.attrib['v'])\n",
    "    osm_file.close()\n",
    "    return street_types\n",
    "\n",
    "\n",
    "st_types = audit(filename)\n",
    "pprint.pprint(dict(st_types))"
   ]
  },
  {
   "cell_type": "markdown",
   "metadata": {},
   "source": [
    "Here we realize the incidence of some wrong names, like 'road' and 'Raod' and others that types that are just not so common. There is also the incidence of cases such as 'Greenways', 'Saltmead' and 'Redhill', which do not have types, but can unfold in ways of the same name and of another type, as shown in the figure below.\n",
    "![Redhill](Images/redhill.png?raw=true \"Redhill\")"
   ]
  },
  {
   "cell_type": "markdown",
   "metadata": {},
   "source": [
    "In addition, names like 'Royal Crescent Road student re' and 'bluebell road' need updates not just in the type of way, so they have been added to an update list made just for them.\n",
    "In the function below, problematic ways and types of problematic ways are identified and have their names modified from the *mapping* and *road_mapping* dictionaries. At the end, the names are shown before the update and after the update."
   ]
  },
  {
   "cell_type": "code",
   "execution_count": 3,
   "metadata": {},
   "outputs": [
    {
     "name": "stdout",
     "output_type": "stream",
     "text": [
      "Osborne Road South => Osborne Road South\n",
      "Albert Road South => Albert Road South\n",
      "Bassett Crescent West => Bassett Crescent West\n",
      "Millbrook Road West => Millbrook Road West\n",
      "Bitterne Road West => Bitterne Road West\n",
      "Millbrook Road East => Millbrook Road East\n",
      "Bitterne Road East => Bitterne Road East\n",
      "Bassett Crescent East => Bassett Crescent East\n",
      "Bassett Green Road / Bassett Green Village => Bassett Green Road / Bassett Green Village\n",
      "Bitterne Village => Bitterne Village\n",
      "S => S\n",
      "Shamrock Quay => Shamrock Quay\n",
      "Town Quay => Town Quay\n",
      "Manor Road North => Manor Road North\n",
      "Osborne Road North => Osborne Road North\n",
      "Shirley Precinct => Shirley Precinct\n",
      "The Polygon => The Polygon\n",
      "Grange Rd => Grange Road\n",
      "Hythe Rd => Hythe Road\n",
      "Bellevue Rd => Bellevue Road\n",
      "Western Esplanade => Western Esplanade\n",
      "Royal Crescent Road student re => Royal Crescent Road\n",
      "Ferry High-Rise => Ferry High-Rise\n",
      "Queensway => Queensway\n",
      "Pond View => Pond View\n",
      "Park View => Park View\n",
      "Lulworth Green => Lulworth Green\n",
      "Chiltern Green => Chiltern Green\n",
      "Edwin Jones Green => Edwin Jones Green\n",
      "Bitterne Road Westal => Bitterne Road West\n",
      "Antelope Park => Antelope Park\n",
      "Portswood Park => Portswood Park\n",
      "Emergency department access => Emergency Department Access\n",
      "Western Esplanade (corner of Fitzhugh Street) => Western Esplanade\n",
      "The Broadway => The Broadway\n",
      "Midanbury Broadway => Midanbury Broadway\n",
      "Harbour Parade => Harbour Parade\n",
      "Marine Parade => Marine Parade\n",
      "The Finches => The Finches\n",
      "Saltmead => Saltmead\n",
      "Bluebell Raod => Bluebell Road\n",
      "bluebell road => Bluebell Road\n",
      "Bluebell road => Bluebell Road\n",
      "Honeysuckle Cottages => Honeysuckle Cottages\n",
      "The Cloisters => The Cloisters\n",
      "The Mayflowers => The Mayflowers\n",
      "Aspen Holt => Aspen Holt\n",
      "Coxford Drove => Coxford Drove\n",
      "York Drove => York Drove\n",
      "Greenways => Greenways\n",
      "Holly Dell => Holly Dell\n",
      "The Firs => The Firs\n",
      "Bassett Meadow => Bassett Meadow\n",
      "Beech House => Beech House\n",
      "Belgrave Industrial Estate => Belgrave Industrial Estate\n",
      "387 => 387\n",
      "The Mount => The Mount\n",
      "Spitfire Loop => Spitfire Loop\n",
      "Redhill => Redhill\n",
      "Overcliff Rise => Overcliff Rise\n"
     ]
    }
   ],
   "source": [
    "def update_name(name, mapping):\n",
    "    \n",
    "    m = street_type_re.search(name)\n",
    "    \n",
    "    if name in hand_update:\n",
    "        name = name.replace(name, road_mapping[name])\n",
    "    elif m:\n",
    "        street_type = m.group()\n",
    "        if street_type in mapping:\n",
    "            name = name.replace(street_type, mapping[street_type])\n",
    "  \n",
    "    return name\n",
    "\n",
    "mapping = { \"Raod\" : \"Road\",\n",
    "            \"Rd\" : \"Road\",\n",
    "            \"road\" : \"Road\",\n",
    "            \"Westal\" : \"West\"\n",
    "            }\n",
    "\n",
    "road_mapping = { \"Royal Crescent Road student re\" : \"Royal Crescent Road\",\n",
    "                 \"Emergency department access\" : \"Emergency Department Access\",\n",
    "                 \"Western Esplanade (corner of Fitzhugh Street)\" : \"Western Esplanade\",\n",
    "                 \"bluebell road\" : \"Bluebell Road\"\n",
    "                }\n",
    "\n",
    "hand_update = [\"Royal Crescent Road student re\", \"Emergency department access\", \n",
    "               \"Western Esplanade (corner of Fitzhugh Street)\", \"bluebell road\"]\n",
    "\n",
    "for st_type, ways in st_types.items():\n",
    "        for name in ways:\n",
    "            better_name = update_name(name, mapping)\n",
    "            print(name, \"=>\", better_name)\n",
    "            "
   ]
  },
  {
   "cell_type": "markdown",
   "metadata": {},
   "source": [
    "We can see that the types of unusual ways have not changed and the ways with errors have been corrected, with the exception of the 'S' and '387' routes, which I believe are data entry errors, as there aren't any ways with these names in the city ."
   ]
  },
  {
   "cell_type": "markdown",
   "metadata": {},
   "source": [
    "The following code transforms the XML file data from the map file into JSON type, to be inserted in MongoDB. In this phase the updated names are inserted in the variable *data*, which will then be read by the database."
   ]
  },
  {
   "cell_type": "code",
   "execution_count": 4,
   "metadata": {},
   "outputs": [],
   "source": [
    "lower = re.compile(r'^([a-z]|_)*$')\n",
    "lower_colon = re.compile(r'^([a-z]|_)*:([a-z]|_)*$')\n",
    "problemchars = re.compile(r'[=\\+/&<>;\\'\"\\?%#$@\\,\\. \\t\\r\\n]')\n",
    "\n",
    "CREATED = [ \"version\", \"changeset\", \"timestamp\", \"user\", \"uid\"]\n",
    "\n",
    "\n",
    "def shape_element(element):\n",
    "    created = {}\n",
    "    node = {}\n",
    "    nodes = []\n",
    "    adress = {}\n",
    "    posi = []\n",
    "    if element.tag == \"node\" or element.tag == \"way\" :\n",
    "        node['id'] = element.attrib['id']\n",
    "        node['visible'] = \"true\"\n",
    "        node['type'] = element.tag\n",
    "        if element.tag == \"node\" :\n",
    "            node['pos'] = [float(element.attrib['lat']), float(element.attrib['lon'])]\n",
    "        created['changeset'] = element.attrib['changeset']\n",
    "        created['user'] = element.attrib['user']\n",
    "        created['version'] = element.attrib['version']\n",
    "        created['uid'] = element.attrib['uid']\n",
    "        created['timestamp'] = element.attrib['timestamp']\n",
    "        node['created'] = created\n",
    "        for tag in element.iter(\"tag\"):\n",
    "            if tag.attrib['k'] == \"addr:housenumber\":\n",
    "                adress['housenumber'] = tag.attrib['v']\n",
    "            elif  tag.attrib['k'] == \"addr:street\":\n",
    "                m = street_type_re.search(tag.attrib['v'])\n",
    "                if m.group() not in expected:\n",
    "                    updated_name = update_name(tag.attrib['v'], mapping)\n",
    "                    adress['street'] = updated_name\n",
    "                else:\n",
    "                    adress['street'] = tag.attrib['v'] \n",
    "        for nd in element.iter(\"nd\"):\n",
    "            if nd.attrib['ref']:\n",
    "                nodes.append(nd.attrib['ref'])\n",
    "            node['address'] = adress\n",
    "            node['node_refs'] = nodes\n",
    "        \n",
    "        return node\n",
    "    else:\n",
    "        return None\n",
    "\n",
    "\n",
    "def process_map(file_in, pretty = False):\n",
    "    file_out = \"D:/Udacity/P3/map/southampton_england.json\".format(file_in)\n",
    "    data = []\n",
    "    with codecs.open(file_out, \"w\") as fo:\n",
    "        for _, element in ET.iterparse(file_in):\n",
    "            el = shape_element(element)\n",
    "            if el:\n",
    "                data.append(el)\n",
    "                if pretty:\n",
    "                    fo.write(json.dumps(el, indent=2)+\"\\n\")\n",
    "                else:\n",
    "                    fo.write(json.dumps(el) + \"\\n\")\n",
    "    return data\n",
    "\n",
    "data = process_map(filename, False)"
   ]
  },
  {
   "cell_type": "code",
   "execution_count": 5,
   "metadata": {},
   "outputs": [
    {
     "data": {
      "text/plain": [
       "<pymongo.results.InsertManyResult at 0x286bdb3e408>"
      ]
     },
     "execution_count": 5,
     "metadata": {},
     "output_type": "execute_result"
    }
   ],
   "source": [
    "#imports 'data' variable to the database\n",
    "from pymongo import MongoClient\n",
    "client = MongoClient(\"mongodb://localhost:27017\")\n",
    "db = client.cities\n",
    "db.southampton.drop()\n",
    "db.southampton.insert_many(data)"
   ]
  },
  {
   "cell_type": "markdown",
   "metadata": {},
   "source": [
    "With the data in the database, we can start querying. Below, I listed some of the questions I would like answers to:\n",
    "* How many documents were inserted in the database? <br/>\n",
    "* How many of these documents have a way? <br/>\n",
    "* Has the data of type 'node' and 'way' been entered correctly? <br/>\n",
    "* Who are the 10 users who contributed most to this map? How many contributions did they make? <br/>\n",
    "* Which 5 streets have the highest incidence on the map? How often do they appear?"
   ]
  },
  {
   "cell_type": "markdown",
   "metadata": {},
   "source": [
    "The following query shows how many documents have been inserted into the database."
   ]
  },
  {
   "cell_type": "code",
   "execution_count": 6,
   "metadata": {},
   "outputs": [
    {
     "name": "stdout",
     "output_type": "stream",
     "text": [
      "Documents inserted into the database:\n",
      "324806\n"
     ]
    }
   ],
   "source": [
    "print(\"Documents inserted into the database:\")\n",
    "pprint.pprint(db.southampton.count_documents({}))"
   ]
  },
  {
   "cell_type": "markdown",
   "metadata": {},
   "source": [
    "The queries below show how many documents are of the type *way*, *node* and how many documents of the type *way* have the street name."
   ]
  },
  {
   "cell_type": "code",
   "execution_count": 7,
   "metadata": {},
   "outputs": [
    {
     "name": "stdout",
     "output_type": "stream",
     "text": [
      "Documents type node:\n",
      "273331\n"
     ]
    }
   ],
   "source": [
    "print(\"Documents type node:\")\n",
    "pprint.pprint(db.southampton.count_documents({\"type\" : \"node\"}))"
   ]
  },
  {
   "cell_type": "code",
   "execution_count": 8,
   "metadata": {},
   "outputs": [
    {
     "name": "stdout",
     "output_type": "stream",
     "text": [
      "Documents type way:\n",
      "51475\n"
     ]
    }
   ],
   "source": [
    "print(\"Documents type way:\")\n",
    "pprint.pprint(db.southampton.count_documents({\"type\" : \"way\"}))"
   ]
  },
  {
   "cell_type": "code",
   "execution_count": 9,
   "metadata": {
    "scrolled": true
   },
   "outputs": [
    {
     "name": "stdout",
     "output_type": "stream",
     "text": [
      "Documents type way with street name:\n",
      "22781\n"
     ]
    }
   ],
   "source": [
    "print(\"Documents type way with street name:\")\n",
    "pprint.pprint(db.southampton.count_documents({\"address.street\" : {\"$exists\" : 1}}))"
   ]
  },
  {
   "cell_type": "markdown",
   "metadata": {},
   "source": [
    "The queries below show examples of documents like *node* and *way*, proving that they were inserted correctly.\n",
    "Here, the **pprint** library is important to facilitate data visualization."
   ]
  },
  {
   "cell_type": "code",
   "execution_count": 10,
   "metadata": {},
   "outputs": [
    {
     "name": "stdout",
     "output_type": "stream",
     "text": [
      "{'_id': ObjectId('5e88cc6f075e7d49b61d5bdd'),\n",
      " 'created': {'changeset': '8139974',\n",
      "             'timestamp': '2011-05-14T11:45:29Z',\n",
      "             'uid': '260682',\n",
      "             'user': 'monxton',\n",
      "             'version': '5'},\n",
      " 'id': '132707',\n",
      " 'pos': [50.9454657, -1.4775675],\n",
      " 'type': 'node',\n",
      " 'visible': 'true'}\n"
     ]
    }
   ],
   "source": [
    "pprint.pprint(db.southampton.find_one({\"type\" : \"node\"}))"
   ]
  },
  {
   "cell_type": "code",
   "execution_count": 11,
   "metadata": {},
   "outputs": [
    {
     "name": "stdout",
     "output_type": "stream",
     "text": [
      "{'_id': ObjectId('5e88cc71075e7d49b6219185'),\n",
      " 'address': {'housenumber': 'Berth 106', 'street': 'Herbert Walker Avenue'},\n",
      " 'created': {'changeset': '35345080',\n",
      "             'timestamp': '2015-11-16T09:22:22Z',\n",
      "             'uid': '1569426',\n",
      "             'user': 'Harjit (CabMyRide)',\n",
      "             'version': '9'},\n",
      " 'id': '10517683',\n",
      " 'node_refs': ['90588898', '90588899', '90588900', '90588901', '90588898'],\n",
      " 'type': 'way',\n",
      " 'visible': 'true'}\n"
     ]
    }
   ],
   "source": [
    "pprint.pprint(db.southampton.find_one({\"type\" : \"way\", \"address.street\" : {\"$exists\" : 1}}))"
   ]
  },
  {
   "cell_type": "markdown",
   "metadata": {},
   "source": [
    "The query below shows the ten users who contributed most to this part of the map and the number of contributions by each."
   ]
  },
  {
   "cell_type": "code",
   "execution_count": 12,
   "metadata": {
    "scrolled": true
   },
   "outputs": [
    {
     "name": "stdout",
     "output_type": "stream",
     "text": [
      "{'_id': 'Chris Baines', 'count': 107158}\n",
      "{'_id': 'Harjit (CabMyRide)', 'count': 24971}\n",
      "{'_id': '0123456789', 'count': 23764}\n",
      "{'_id': 'Nick Austin', 'count': 17681}\n",
      "{'_id': 'pcman1985', 'count': 14158}\n",
      "{'_id': 'Deanna Earley', 'count': 13438}\n",
      "{'_id': 'Arjan Sahota', 'count': 12948}\n",
      "{'_id': 'Kuldip (CabMyRide)', 'count': 9619}\n",
      "{'_id': 'Andy Street', 'count': 9189}\n",
      "{'_id': 'Harry Cutts', 'count': 6676}\n"
     ]
    }
   ],
   "source": [
    "resultado = db.southampton.aggregate([ \n",
    "                                     {\"$group\" : { \"_id\" : \"$created.user\", \"count\" : {\"$sum\" : 1}}},\n",
    "                                     {\"$sort\" : {\"count\" : -1}},{\"$limit\": 10} \n",
    "                                     ])\n",
    "\n",
    "for document in resultado:\n",
    "    pprint.pprint(document)"
   ]
  },
  {
   "cell_type": "markdown",
   "metadata": {},
   "source": [
    "The query below shows the five routes with the highest incidence on the map and 'None', since most documents do not have the variable 'address.street' filled in."
   ]
  },
  {
   "cell_type": "code",
   "execution_count": 13,
   "metadata": {},
   "outputs": [
    {
     "name": "stdout",
     "output_type": "stream",
     "text": [
      "{'_id': None, 'count': 302025}\n",
      "{'_id': 'Burgess Road', 'count': 371}\n",
      "{'_id': 'Portswood Road', 'count': 349}\n",
      "{'_id': 'Winchester Road', 'count': 319}\n",
      "{'_id': 'Honeysuckle Road', 'count': 272}\n",
      "{'_id': 'Hill Lane', 'count': 250}\n"
     ]
    }
   ],
   "source": [
    "resultado = db.southampton.aggregate([ \n",
    "                                     {\"$group\" : { \"_id\" : \"$address.street\", \"count\" : {\"$sum\" : 1}}},\n",
    "                                     {\"$sort\" : {\"count\" : -1}},{\"$limit\": 6} \n",
    "                                     ])\n",
    "\n",
    "for document in resultado:\n",
    "    pprint.pprint(document)"
   ]
  },
  {
   "cell_type": "markdown",
   "metadata": {},
   "source": [
    "#### Bibliography\n",
    "* Python documentation and tutorials: https://docs.python.org/2/\n",
    "* MongoDB documentation and tutorials: https://docs.mongodb.com\n",
    "* RegEx help: http://regexr.com"
   ]
  }
 ],
 "metadata": {
  "anaconda-cloud": {},
  "kernelspec": {
   "display_name": "Python 3",
   "language": "python",
   "name": "python3"
  },
  "language_info": {
   "codemirror_mode": {
    "name": "ipython",
    "version": 3
   },
   "file_extension": ".py",
   "mimetype": "text/x-python",
   "name": "python",
   "nbconvert_exporter": "python",
   "pygments_lexer": "ipython3",
   "version": "3.7.4"
  }
 },
 "nbformat": 4,
 "nbformat_minor": 1
}
