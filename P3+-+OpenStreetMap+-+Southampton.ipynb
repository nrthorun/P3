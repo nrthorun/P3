{
 "cells": [
  {
   "cell_type": "markdown",
   "metadata": {},
   "source": [
    "## Projeto 3 - Tratamento de Dados do OpenStreetMap\n",
    "##### Por Nikolas Thorun"
   ]
  },
  {
   "cell_type": "markdown",
   "metadata": {},
   "source": [
    "Este projeto se baseia no tratamento de dados de um mapa exportado do OpenStreetMap e consiste em quatro fases: Download e investigação dos dados, tratamento iterativo dos dados, inserção dos dados tratados no banco de dados e buscas no banco de dados.\n",
    "O mapa escolhido foi o da cidade de Southampton, na Inglaterra, para evitar os percalços de se tentar trabalhar com o UNICODE, já que os mapas de cidades do Brasil têm caracteres especiais como _á, ã, ç_ e etc., que não são suportados pelo *encoding* padrão do Python 2. O arquivo do mapa tem pouco mais de 65 MB descompactado. <br/>\n",
    "O mapa de Southampton pode ser acessado em: https://www.openstreetmap.org/node/2478628079#map=14/50.9025/-1.4042 <br/>\n",
    "O banco de dados a ser utilizado é o MongoDB."
   ]
  },
  {
   "cell_type": "code",
   "execution_count": 1,
   "metadata": {
    "collapsed": true
   },
   "outputs": [],
   "source": [
    "#importa bibliotecas necessárias\n",
    "import xml.etree.cElementTree as ET\n",
    "import pprint\n",
    "import re\n",
    "import codecs\n",
    "import json\n",
    "\n",
    "#local do mapa dentro do meu computador\n",
    "filename = 'C:/Users/Nikolas/Desktop/map/southampton_england.osm'"
   ]
  },
  {
   "cell_type": "markdown",
   "metadata": {},
   "source": [
    "Utilizando parte do código generosamente concedido por Shannon Bradshaw, aqui é feita a primeira varredura do mapa para a identificação dos tipos de vias mais comuns. Uma vez identificados, os tipos com maior incidência são manualmente inseridos na lista *expected*. Todos os tipos de vias que não estão contidos na lista são printados abaixo."
   ]
  },
  {
   "cell_type": "code",
   "execution_count": 2,
   "metadata": {
    "collapsed": false,
    "scrolled": false
   },
   "outputs": [
    {
     "name": "stdout",
     "output_type": "stream",
     "text": [
      "{'387': set(['387']),\n",
      " 'Broadway': set(['Midanbury Broadway', 'The Broadway']),\n",
      " 'Cloisters': set(['The Cloisters']),\n",
      " 'Cottages': set(['Honeysuckle Cottages']),\n",
      " 'Dell': set(['Holly Dell']),\n",
      " 'Drove': set(['Coxford Drove', 'York Drove']),\n",
      " 'East': set(['Bassett Crescent East',\n",
      "              'Bitterne Road East',\n",
      "              'Millbrook Road East']),\n",
      " 'Esplanade': set(['Western Esplanade']),\n",
      " 'Estate': set(['Belgrave Industrial Estate']),\n",
      " 'Finches': set(['The Finches']),\n",
      " 'Firs': set(['The Firs']),\n",
      " 'Green': set(['Chiltern Green', 'Edwin Jones Green', 'Lulworth Green']),\n",
      " 'Greenways': set(['Greenways']),\n",
      " 'High-Rise': set(['Ferry High-Rise']),\n",
      " 'Holt': set(['Aspen Holt']),\n",
      " 'House': set(['Beech House']),\n",
      " 'Loop': set(['Spitfire Loop']),\n",
      " 'Mayflowers': set(['The Mayflowers']),\n",
      " 'Meadow': set(['Bassett Meadow']),\n",
      " 'Mount': set(['The Mount']),\n",
      " 'North': set(['Manor Road North', 'Osborne Road North']),\n",
      " 'Parade': set(['Harbour Parade', 'Marine Parade']),\n",
      " 'Park': set(['Antelope Park', 'Portswood Park']),\n",
      " 'Polygon': set(['The Polygon']),\n",
      " 'Precinct': set(['Shirley Precinct']),\n",
      " 'Quay': set(['Shamrock Quay', 'Town Quay']),\n",
      " 'Queensway': set(['Queensway']),\n",
      " 'Raod': set(['Bluebell Raod']),\n",
      " 'Rd': set(['Bellevue Rd', 'Grange Rd', 'Hythe Rd']),\n",
      " 'Redhill': set(['Redhill']),\n",
      " 'Rise': set(['Overcliff Rise']),\n",
      " 'S': set(['S']),\n",
      " 'Saltmead': set(['Saltmead']),\n",
      " 'South': set(['Albert Road South', 'Osborne Road South']),\n",
      " 'Street)': set(['Western Esplanade (corner of Fitzhugh Street)']),\n",
      " 'View': set(['Park View', 'Pond View']),\n",
      " 'Village': set(['Bassett Green Road / Bassett Green Village',\n",
      "                 'Bitterne Village',\n",
      "                 'Ocean Village']),\n",
      " 'West': set(['Bassett Crescent West',\n",
      "              'Bitterne Road West',\n",
      "              'Millbrook Road West']),\n",
      " 'Westal': set(['Bitterne Road Westal']),\n",
      " 'access': set(['Emergency department access']),\n",
      " 're': set(['Royal Crescent Road student re']),\n",
      " 'road': set(['Bluebell road', 'bluebell road'])}\n"
     ]
    }
   ],
   "source": [
    "from collections import defaultdict\n",
    "\n",
    "street_type_re = re.compile(r'\\b\\S+\\.?$', re.IGNORECASE)\n",
    "\n",
    "expected = [\"Avenue\", \"Bridge\", \"Buildings\", \"Centre\", \"Close\", \"Court\", \"Crescent\", \"Drive\", \"Gardens\", \n",
    "            \"Grove\", \"Hill\", \"Lane\", \"Mews\", \"Place\", \"Road\", \"Square\", \"Street\", \"Terrace\", \"Walk\", \"Way\"]\n",
    "\n",
    "def audit_street_type(street_types, street_name):\n",
    "    m = street_type_re.search(street_name)\n",
    "    if m:\n",
    "        street_type = m.group()\n",
    "        if street_type not in expected:\n",
    "            street_types[street_type].add(street_name)\n",
    "\n",
    "\n",
    "def is_street_name(elem):\n",
    "    return (elem.attrib['k'] == \"addr:street\")\n",
    "\n",
    "\n",
    "def audit(osmfile):\n",
    "    osm_file = codecs.open(osmfile, \"r\")\n",
    "    street_types = defaultdict(set)\n",
    "    for event, elem in ET.iterparse(osm_file, events=(\"start\",)):\n",
    "\n",
    "        if elem.tag == \"node\" or elem.tag == \"way\":\n",
    "            for tag in elem.iter(\"tag\"):\n",
    "                if is_street_name(tag):\n",
    "                    audit_street_type(street_types, tag.attrib['v'])\n",
    "    osm_file.close()\n",
    "    return street_types\n",
    "\n",
    "\n",
    "st_types = audit(filename)\n",
    "pprint.pprint(dict(st_types))"
   ]
  },
  {
   "cell_type": "markdown",
   "metadata": {},
   "source": [
    "Aqui percebemos a incidência de alguns nomes errados, como 'road' e 'Raod' e outros que tipos que simplesmente não são tão comuns. Há também a incidência de casos como 'Greenways', 'Saltmead' e 'Redhill', que não possuem tipos, mas podem se desdobrar em vias de mesmo nome e de outro tipo, conforme mostra a figura abaixo.\n",
    "![Redhill](http://i64.tinypic.com/1hbhaa.png)"
   ]
  },
  {
   "cell_type": "markdown",
   "metadata": {},
   "source": [
    "Além disso, nomes como 'Royal Crescent Road student re' e 'bluebell road' necessitam de atualizações não apenas no tipo de via, por isso foram inseridos em uma lista de atualização feita unicamente para eles.\n",
    "Na função abaixo, as vias problemáticas e os tipos de vias problemáticos são identificados e têm seus nomes modificados a partir dos dicionários *mapping* e *road_mapping*. Ao final, são mostrados os nomes antes da atualização e depois da atualização."
   ]
  },
  {
   "cell_type": "code",
   "execution_count": 3,
   "metadata": {
    "collapsed": false
   },
   "outputs": [
    {
     "name": "stdout",
     "output_type": "stream",
     "text": [
      "Bassett Meadow => Bassett Meadow\n",
      "The Polygon => The Polygon\n",
      "Honeysuckle Cottages => Honeysuckle Cottages\n",
      "Bassett Crescent West => Bassett Crescent West\n",
      "Millbrook Road West => Millbrook Road West\n",
      "Bitterne Road West => Bitterne Road West\n",
      "Grange Rd => Grange Road\n",
      "Hythe Rd => Hythe Road\n",
      "Bellevue Rd => Bellevue Road\n",
      "Bitterne Road East => Bitterne Road East\n",
      "Millbrook Road East => Millbrook Road East\n",
      "Bassett Crescent East => Bassett Crescent East\n",
      "Shamrock Quay => Shamrock Quay\n",
      "Town Quay => Town Quay\n",
      "Royal Crescent Road student re => Royal Crescent Road\n",
      "Aspen Holt => Aspen Holt\n",
      "Antelope Park => Antelope Park\n",
      "Portswood Park => Portswood Park\n",
      "Holly Dell => Holly Dell\n",
      "Queensway => Queensway\n",
      "Emergency department access => Emergency Department Access\n",
      "Western Esplanade (corner of Fitzhugh Street) => Western Esplanade\n",
      "Bluebell Raod => Bluebell Road\n",
      "Shirley Precinct => Shirley Precinct\n",
      "The Firs => The Firs\n",
      "Greenways => Greenways\n",
      "The Cloisters => The Cloisters\n",
      "The Mount => The Mount\n",
      "Ferry High-Rise => Ferry High-Rise\n",
      "The Finches => The Finches\n",
      "Saltmead => Saltmead\n",
      "S => S\n",
      "Lulworth Green => Lulworth Green\n",
      "Chiltern Green => Chiltern Green\n",
      "Edwin Jones Green => Edwin Jones Green\n",
      "387 => 387\n",
      "Osborne Road North => Osborne Road North\n",
      "Manor Road North => Manor Road North\n",
      "Redhill => Redhill\n",
      "Albert Road South => Albert Road South\n",
      "Osborne Road South => Osborne Road South\n",
      "Pond View => Pond View\n",
      "Park View => Park View\n",
      "Marine Parade => Marine Parade\n",
      "Harbour Parade => Harbour Parade\n",
      "Belgrave Industrial Estate => Belgrave Industrial Estate\n",
      "Beech House => Beech House\n",
      "Overcliff Rise => Overcliff Rise\n",
      "Western Esplanade => Western Esplanade\n",
      "The Mayflowers => The Mayflowers\n",
      "Spitfire Loop => Spitfire Loop\n",
      "Bassett Green Road / Bassett Green Village => Bassett Green Road / Bassett Green Village\n",
      "Ocean Village => Ocean Village\n",
      "Bitterne Village => Bitterne Village\n",
      "Bitterne Road Westal => Bitterne Road West\n",
      "Midanbury Broadway => Midanbury Broadway\n",
      "The Broadway => The Broadway\n",
      "Coxford Drove => Coxford Drove\n",
      "York Drove => York Drove\n",
      "bluebell road => Bluebell Road\n",
      "Bluebell road => Bluebell Road\n"
     ]
    }
   ],
   "source": [
    "def update_name(name, mapping):\n",
    "    \n",
    "    m = street_type_re.search(name)\n",
    "    \n",
    "    if name in hand_update:\n",
    "        name = name.replace(name, road_mapping[name])\n",
    "    elif m:\n",
    "        street_type = m.group()\n",
    "        if street_type in mapping:\n",
    "            name = name.replace(street_type, mapping[street_type])\n",
    "  \n",
    "    return name\n",
    "\n",
    "mapping = { \"Raod\" : \"Road\",\n",
    "            \"Rd\" : \"Road\",\n",
    "            \"road\" : \"Road\",\n",
    "            \"Westal\" : \"West\"\n",
    "            }\n",
    "\n",
    "road_mapping = { \"Royal Crescent Road student re\" : \"Royal Crescent Road\",\n",
    "                 \"Emergency department access\" : \"Emergency Department Access\",\n",
    "                 \"Western Esplanade (corner of Fitzhugh Street)\" : \"Western Esplanade\",\n",
    "                 \"bluebell road\" : \"Bluebell Road\"\n",
    "                }\n",
    "\n",
    "hand_update = [\"Royal Crescent Road student re\", \"Emergency department access\", \n",
    "               \"Western Esplanade (corner of Fitzhugh Street)\", \"bluebell road\"]\n",
    "\n",
    "for st_type, ways in st_types.iteritems():\n",
    "        for name in ways:\n",
    "            better_name = update_name(name, mapping)\n",
    "            print name, \"=>\", better_name\n",
    "            "
   ]
  },
  {
   "cell_type": "markdown",
   "metadata": {},
   "source": [
    "Podemos ver que os tipos de vias incomuns não sofreram mudanças e as vias com erros foram corrigidas, com exceção das vias 'S' e '387', que acredito serem erros de inserção de dados, já que não existem vias com estes nomes na cidade."
   ]
  },
  {
   "cell_type": "markdown",
   "metadata": {},
   "source": [
    "O código a seguir transforma os dados tipo XML do arquivo do mapa em tipo JSON, para ser inserido no MongoDB. Nesta fase os nomes atualizados são inseridos em na variável *data*, que será depois lida pelo banco. "
   ]
  },
  {
   "cell_type": "code",
   "execution_count": 4,
   "metadata": {
    "collapsed": false
   },
   "outputs": [],
   "source": [
    "lower = re.compile(r'^([a-z]|_)*$')\n",
    "lower_colon = re.compile(r'^([a-z]|_)*:([a-z]|_)*$')\n",
    "problemchars = re.compile(r'[=\\+/&<>;\\'\"\\?%#$@\\,\\. \\t\\r\\n]')\n",
    "\n",
    "CREATED = [ \"version\", \"changeset\", \"timestamp\", \"user\", \"uid\"]\n",
    "\n",
    "\n",
    "def shape_element(element):\n",
    "    created = {}\n",
    "    node = {}\n",
    "    nodes = []\n",
    "    adress = {}\n",
    "    posi = []\n",
    "    if element.tag == \"node\" or element.tag == \"way\" :\n",
    "        node['id'] = element.attrib['id']\n",
    "        node['visible'] = \"true\"\n",
    "        node['type'] = element.tag\n",
    "        if element.tag == \"node\" :\n",
    "            node['pos'] = [float(element.attrib['lat']), float(element.attrib['lon'])]\n",
    "        created['changeset'] = element.attrib['changeset']\n",
    "        created['user'] = element.attrib['user']\n",
    "        created['version'] = element.attrib['version']\n",
    "        created['uid'] = element.attrib['uid']\n",
    "        created['timestamp'] = element.attrib['timestamp']\n",
    "        node['created'] = created\n",
    "        for tag in element.iter(\"tag\"):\n",
    "            if tag.attrib['k'] == \"addr:housenumber\":\n",
    "                adress['housenumber'] = tag.attrib['v']\n",
    "            elif  tag.attrib['k'] == \"addr:street\":\n",
    "                m = street_type_re.search(tag.attrib['v'])\n",
    "                if m.group() not in expected:\n",
    "                    updated_name = update_name(tag.attrib['v'], mapping)\n",
    "                    adress['street'] = updated_name\n",
    "                else:\n",
    "                    adress['street'] = tag.attrib['v'] \n",
    "        for nd in element.iter(\"nd\"):\n",
    "            if nd.attrib['ref']:\n",
    "                nodes.append(nd.attrib['ref'])\n",
    "            node['address'] = adress\n",
    "            node['node_refs'] = nodes\n",
    "        \n",
    "        return node\n",
    "    else:\n",
    "        return None\n",
    "\n",
    "\n",
    "def process_map(file_in, pretty = False):\n",
    "    file_out = \"C:/Users/Nikolas/Desktop/southampton_england.json\".format(file_in)\n",
    "    data = []\n",
    "    with codecs.open(file_out, \"w\") as fo:\n",
    "        for _, element in ET.iterparse(file_in):\n",
    "            el = shape_element(element)\n",
    "            if el:\n",
    "                data.append(el)\n",
    "                if pretty:\n",
    "                    fo.write(json.dumps(el, indent=2)+\"\\n\")\n",
    "                else:\n",
    "                    fo.write(json.dumps(el) + \"\\n\")\n",
    "    return data\n",
    "\n",
    "data = process_map(filename, False)"
   ]
  },
  {
   "cell_type": "code",
   "execution_count": 5,
   "metadata": {
    "collapsed": false
   },
   "outputs": [
    {
     "data": {
      "text/plain": [
       "<pymongo.results.InsertManyResult at 0x415128b8>"
      ]
     },
     "execution_count": 5,
     "metadata": {},
     "output_type": "execute_result"
    }
   ],
   "source": [
    "#importa os dados da variável 'data' para o banco de dados\n",
    "from pymongo import MongoClient\n",
    "client = MongoClient(\"mongodb://localhost:27017\")\n",
    "db = client.cities\n",
    "db.southampton.drop()\n",
    "db.southampton.insert_many(data)"
   ]
  },
  {
   "cell_type": "markdown",
   "metadata": {},
   "source": [
    "Com os dados inseridos no banco, podemos começar a fazer as buscas. Abaixo, listo algumas das questões que gostaria de responder:\n",
    "* Quantos documentos foram inseridos no banco? <br/>\n",
    "* Quantos desses documentos possuem uma via? <br/>\n",
    "* Os dados dos tipos 'node' e 'way' foram inseridos corretamente? <br/>\n",
    "* Quais são os 10 usuários que mais contribuíram com este mapa? Quantas contribuições eles deram? <br/>\n",
    "* Qual são as 5 ruas que têm maior incidência no mapa? Quantas vezes elas aparecem?"
   ]
  },
  {
   "cell_type": "markdown",
   "metadata": {},
   "source": [
    "A busca a seguir mostra quantos documentos foram inseridos no banco."
   ]
  },
  {
   "cell_type": "code",
   "execution_count": 6,
   "metadata": {
    "collapsed": false
   },
   "outputs": [
    {
     "name": "stdout",
     "output_type": "stream",
     "text": [
      "Documentos inseridos no banco:\n",
      "324806\n"
     ]
    }
   ],
   "source": [
    "print \"Documentos inseridos no banco:\"\n",
    "pprint.pprint(db.southampton.find().count())"
   ]
  },
  {
   "cell_type": "markdown",
   "metadata": {},
   "source": [
    "As buscas abaixo mostram quantos documentos são do tipo *way*, *node* e quantos documentos do tipo *way* possuem via."
   ]
  },
  {
   "cell_type": "code",
   "execution_count": 7,
   "metadata": {
    "collapsed": false
   },
   "outputs": [
    {
     "name": "stdout",
     "output_type": "stream",
     "text": [
      "Documentos do tipo node:\n",
      "273331\n"
     ]
    }
   ],
   "source": [
    "print \"Documentos do tipo node:\"\n",
    "pprint.pprint(db.southampton.find({\"type\" : \"node\"}).count())"
   ]
  },
  {
   "cell_type": "code",
   "execution_count": 8,
   "metadata": {
    "collapsed": false
   },
   "outputs": [
    {
     "name": "stdout",
     "output_type": "stream",
     "text": [
      "Documentos do tipo way:\n",
      "51475\n"
     ]
    }
   ],
   "source": [
    "print \"Documentos do tipo way:\"\n",
    "pprint.pprint(db.southampton.find({\"type\" : \"way\"}).count())"
   ]
  },
  {
   "cell_type": "code",
   "execution_count": 9,
   "metadata": {
    "collapsed": false,
    "scrolled": true
   },
   "outputs": [
    {
     "name": "stdout",
     "output_type": "stream",
     "text": [
      "Documentos do tipo way com nome da rua:\n",
      "22781\n"
     ]
    }
   ],
   "source": [
    "print \"Documentos do tipo way com nome da rua:\"\n",
    "pprint.pprint(db.southampton.find({\"address.street\" : {\"$exists\" : 1}}).count())"
   ]
  },
  {
   "cell_type": "markdown",
   "metadata": {},
   "source": [
    "As buscas abaixo mostram exemplos de documentos tipo *node* e *way*, comprovando que foram inseridos corretamente.\n",
    "Aqui, a biblioteca **pprint** é importante para facilitar a visualização dos dados."
   ]
  },
  {
   "cell_type": "code",
   "execution_count": 10,
   "metadata": {
    "collapsed": false
   },
   "outputs": [
    {
     "name": "stdout",
     "output_type": "stream",
     "text": [
      "{u'_id': ObjectId('595056ce2c38fa0e2c0a9fb0'),\n",
      " u'created': {u'changeset': u'8139974',\n",
      "              u'timestamp': u'2011-05-14T11:45:29Z',\n",
      "              u'uid': u'260682',\n",
      "              u'user': u'monxton',\n",
      "              u'version': u'5'},\n",
      " u'id': u'132707',\n",
      " u'pos': [50.9454657, -1.4775675],\n",
      " u'type': u'node',\n",
      " u'visible': u'true'}\n"
     ]
    }
   ],
   "source": [
    "pprint.pprint(db.southampton.find_one({\"type\" : \"node\"}))"
   ]
  },
  {
   "cell_type": "code",
   "execution_count": 11,
   "metadata": {
    "collapsed": false
   },
   "outputs": [
    {
     "name": "stdout",
     "output_type": "stream",
     "text": [
      "{u'_id': ObjectId('595056d32c38fa0e2c0ed558'),\n",
      " u'address': {u'housenumber': u'Berth 106',\n",
      "              u'street': u'Herbert Walker Avenue'},\n",
      " u'created': {u'changeset': u'35345080',\n",
      "              u'timestamp': u'2015-11-16T09:22:22Z',\n",
      "              u'uid': u'1569426',\n",
      "              u'user': u'Harjit (CabMyRide)',\n",
      "              u'version': u'9'},\n",
      " u'id': u'10517683',\n",
      " u'node_refs': [u'90588898',\n",
      "                u'90588899',\n",
      "                u'90588900',\n",
      "                u'90588901',\n",
      "                u'90588898'],\n",
      " u'type': u'way',\n",
      " u'visible': u'true'}\n"
     ]
    }
   ],
   "source": [
    "pprint.pprint(db.southampton.find_one({\"type\" : \"way\", \"address.street\" : {\"$exists\" : 1}}))"
   ]
  },
  {
   "cell_type": "markdown",
   "metadata": {},
   "source": [
    "A busca abaixo mostra os dez usuários que mais contribuíram para esta parte do mapa e o número de contribuições de cada um."
   ]
  },
  {
   "cell_type": "code",
   "execution_count": 12,
   "metadata": {
    "collapsed": false,
    "scrolled": true
   },
   "outputs": [
    {
     "name": "stdout",
     "output_type": "stream",
     "text": [
      "{u'_id': u'Chris Baines', u'count': 107158}\n",
      "{u'_id': u'Harjit (CabMyRide)', u'count': 24971}\n",
      "{u'_id': u'0123456789', u'count': 23764}\n",
      "{u'_id': u'Nick Austin', u'count': 17681}\n",
      "{u'_id': u'pcman1985', u'count': 14158}\n",
      "{u'_id': u'Deanna Earley', u'count': 13438}\n",
      "{u'_id': u'Arjan Sahota', u'count': 12948}\n",
      "{u'_id': u'Kuldip (CabMyRide)', u'count': 9619}\n",
      "{u'_id': u'Andy Street', u'count': 9189}\n",
      "{u'_id': u'Harry Cutts', u'count': 6676}\n"
     ]
    }
   ],
   "source": [
    "resultado = db.southampton.aggregate([ \n",
    "                                     {\"$group\" : { \"_id\" : \"$created.user\", \"count\" : {\"$sum\" : 1}}},\n",
    "                                     {\"$sort\" : {\"count\" : -1}},{\"$limit\": 10} \n",
    "                                     ])\n",
    "\n",
    "for document in resultado:\n",
    "    pprint.pprint(document)"
   ]
  },
  {
   "cell_type": "markdown",
   "metadata": {},
   "source": [
    "A busca abaixo mostra as cinco vias com maior incidência no mapa e 'None', já que a maior parte dos documentos não possui a variável 'address.street' preenchida."
   ]
  },
  {
   "cell_type": "code",
   "execution_count": 13,
   "metadata": {
    "collapsed": false
   },
   "outputs": [
    {
     "name": "stdout",
     "output_type": "stream",
     "text": [
      "{u'_id': None, u'count': 302025}\n",
      "{u'_id': u'Burgess Road', u'count': 371}\n",
      "{u'_id': u'Portswood Road', u'count': 349}\n",
      "{u'_id': u'Winchester Road', u'count': 319}\n",
      "{u'_id': u'Honeysuckle Road', u'count': 272}\n",
      "{u'_id': u'Hill Lane', u'count': 250}\n"
     ]
    }
   ],
   "source": [
    "resultado = db.southampton.aggregate([ \n",
    "                                     {\"$group\" : { \"_id\" : \"$address.street\", \"count\" : {\"$sum\" : 1}}},\n",
    "                                     {\"$sort\" : {\"count\" : -1}},{\"$limit\": 6} \n",
    "                                     ])\n",
    "\n",
    "for document in resultado:\n",
    "    pprint.pprint(document)"
   ]
  },
  {
   "cell_type": "markdown",
   "metadata": {},
   "source": [
    "#### Bibliografia\n",
    "* Documentação e tutoriais do Python: https://docs.python.org/2/\n",
    "* Documentação e tutoriais do MongoDB: https://docs.mongodb.com\n",
    "* Ajuda para aprender Expressões Regulares: http://regexr.com"
   ]
  }
 ],
 "metadata": {
  "anaconda-cloud": {},
  "kernelspec": {
   "display_name": "Python [conda root]",
   "language": "python",
   "name": "conda-root-py"
  },
  "language_info": {
   "codemirror_mode": {
    "name": "ipython",
    "version": 2
   },
   "file_extension": ".py",
   "mimetype": "text/x-python",
   "name": "python",
   "nbconvert_exporter": "python",
   "pygments_lexer": "ipython2",
   "version": "2.7.12"
  }
 },
 "nbformat": 4,
 "nbformat_minor": 1
}
